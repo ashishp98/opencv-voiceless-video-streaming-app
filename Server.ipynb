{
 "cells": [
  {
   "cell_type": "code",
   "execution_count": null,
   "id": "bored-graduation",
   "metadata": {},
   "outputs": [
    {
     "name": "stdout",
     "output_type": "stream",
     "text": [
      "Ask client to connect!!!\n",
      "The server is connected to  ('192.168.43.204', 63335)\n"
     ]
    }
   ],
   "source": [
    "import cv2\n",
    "import socket\n",
    "import pickle\n",
    "\n",
    "s = socket.socket()\n",
    "s = socket.socket(socket.AF_INET,socket.SOCK_STREAM)\n",
    "server_ip=\"\"\n",
    "server_port=2222\n",
    "\n",
    "s.bind((server_ip,server_port))\n",
    "print(\"Ask client to connect!!!\")\n",
    "\n",
    "s.listen()\n",
    "client_session , addr = s.accept()\n",
    "\n",
    "print(\"The server is connected to \",addr)\n",
    "\n",
    "cap = cv2.VideoCapture(0)\n",
    "while True:\n",
    "    ret , photo = cap.read()\n",
    "    photo = cv2.resize(photo,(700,500))\n",
    "    ret, buffer = cv2.imencode('photo.jpg',photo)\n",
    "    Image_in_bytes = pickle.dumps(buffer)\n",
    "    client_session.send(Image_in_bytes)\n",
    "\n",
    "    received_data = client_session.recv(1000000)\n",
    "    \n",
    "    try:\n",
    "        data = pickle.loads(received_data)\n",
    "        data = cv2.imdecode(data,cv2.IMREAD_COLOR)\n",
    "        if data is not None :\n",
    "            cv2.imshow('SERVER',data)\n",
    "            if cv2.waitKey(10) == 13 :\n",
    "                break\n",
    "    except: \n",
    "        print(\"Reconnecting...\")\n",
    "cv2.destroyAllWindows()"
   ]
  },
  {
   "cell_type": "code",
   "execution_count": null,
   "id": "marine-omaha",
   "metadata": {},
   "outputs": [],
   "source": []
  }
 ],
 "metadata": {
  "kernelspec": {
   "display_name": "Python 3",
   "language": "python",
   "name": "python3"
  },
  "language_info": {
   "codemirror_mode": {
    "name": "ipython",
    "version": 3
   },
   "file_extension": ".py",
   "mimetype": "text/x-python",
   "name": "python",
   "nbconvert_exporter": "python",
   "pygments_lexer": "ipython3",
   "version": "3.8.5"
  }
 },
 "nbformat": 4,
 "nbformat_minor": 5
}
